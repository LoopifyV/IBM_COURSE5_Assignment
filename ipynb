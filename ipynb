# =============================================================================
# IBM Data Science Project – Extracting and Visualizing Stock Data
# Author: Mohammed
# Title: Analyzing Tesla and GameStop: Stock Prices vs Revenue Trends
# =============================================================================

# === Import Required Libraries ===
import yfinance as yf
import pandas as pd
import requests
from bs4 import BeautifulSoup
import plotly.graph_objects as go
from plotly.subplots import make_subplots
import warnings

# Ignore future warnings to keep output clean
warnings.filterwarnings("ignore")

# =============================================================================
# Define a Graphing Function (Given in Coursera Lab)
# =============================================================================
def make_graph(stock_data, revenue_data, stock):
    print(f"\nCreating interactive graph for {stock}...")
    
    fig = make_subplots(rows=2, cols=1, shared_xaxes=True,
                        subplot_titles=("Historical Share Price", "Historical Revenue"),
                        vertical_spacing=0.3)
    
    # Filter for dates up to today (lab expects cut-off logic)
    stock_filtered = stock_data[stock_data.Date <= "2025-07-31"]
    revenue_filtered = revenue_data[revenue_data.Date <= "2025-07-31"]
    
    # Add traces
    fig.add_trace(go.Scatter(
        x=pd.to_datetime(stock_filtered.Date),
        y=stock_filtered.Close.astype(float),
        name="Share Price"
    ), row=1, col=1)
    
    fig.add_trace(go.Scatter(
        x=pd.to_datetime(revenue_filtered.Date),
        y=revenue_filtered.Revenue.astype(float),
        name="Revenue"
    ), row=2, col=1)
    
    # Format layout
    fig.update_yaxes(title_text="Price ($)", row=1, col=1)
    fig.update_yaxes(title_text="Revenue ($ Millions)", row=2, col=1)
    fig.update_layout(title=stock,
                      showlegend=False,
                      height=900,
                      xaxis_rangeslider_visible=True)
    
    # Show figure
    fig.show()
    print(f"Graph for {stock} displayed successfully.")

# =============================================================================
# Question 1 – Extract Tesla Stock Data
# =============================================================================
print("\n--- Question 1: Extracting Tesla Stock Data ---")

tesla = yf.Ticker("TSLA")
tesla_data = tesla.history(period="max")

# Print shape to show rows/columns
print(f"Tesla dataset shape: {tesla_data.shape}")

# Reset index so Date is a column
tesla_data.reset_index(inplace=True)

# Display first 5 rows
display(tesla_data.head(5))

# Save interim data
tesla_data.to_csv("tesla_stock_data.csv", index=False)
print("Tesla stock data saved to tesla_stock_data.csv")

# =============================================================================
# Question 2 – Extract Tesla Revenue via Web Scraping
# =============================================================================
print("\n--- Question 2: Extracting Tesla Revenue Data ---")

url = "https://www.macrotrends.net/stocks/charts/TSLA/tesla/revenue"
html_data = requests.get(url).text
soup = BeautifulSoup(html_data, "html.parser")

tesla_revenue = pd.DataFrame(columns=["Date", "Revenue"])
rows = soup.find_all("tr")

print(f"Found {len(rows)} rows while scraping Tesla revenue...")

# Loop with verbose printing
for i, row in enumerate(rows):
    cols = row.find_all("td")
    if len(cols) == 2:
        date = cols[0].get_text(strip=True)
        revenue = cols[1].get_text(strip=True).replace("$", "").replace(",", "")
        if revenue:
            tesla_revenue.loc[len(tesla_revenue)] = [date, revenue]
    if i % 20 == 0:
        print(f"Processed {i} rows...")

# Display first 5 rows
display(tesla_revenue.head())

# Clean and save
tesla_revenue.dropna(inplace=True)
tesla_revenue.to_csv("tesla_revenue.csv", index=False)
print("Tesla revenue data cleaned and saved.")

# =============================================================================
# Question 3 – Extract GameStop Stock Data
# =============================================================================
print("\n--- Question 3: Extracting GameStop Stock Data ---")

gme = yf.Ticker("GME")
gme_data = gme.history(period="max")

print(f"GameStop dataset shape: {gme_data.shape}")

gme_data.reset_index(inplace=True)
display(gme_data.head())

gme_data.to_csv("gamestop_stock_data.csv", index=False)
print("GameStop stock data saved to gamestop_stock_data.csv")

# =============================================================================
# Question 4 – Extract GameStop Revenue via Web Scraping
# =============================================================================
print("\n--- Question 4: Extracting GameStop Revenue Data ---")

url = "https://www.macrotrends.net/stocks/charts/GME/gamestop/revenue"
html_data = requests.get(url).text
soup = BeautifulSoup(html_data, "html.parser")

gme_revenue = pd.DataFrame(columns=["Date", "Revenue"])
rows = soup.find_all("tr")
print(f"Found {len(rows)} rows while scraping GME revenue...")

for i, row in enumerate(rows):
    cols = row.find_all("td")
    if len(cols) == 2:
        date = cols[0].get_text(strip=True)
        revenue = cols[1].get_text(strip=True).replace("$", "").replace(",", "")
        if revenue:
            gme_revenue.loc[len(gme_revenue)] = [date, revenue]
    if i % 20 == 0:
        print(f"Processed {i} rows...")

display(gme_revenue.head())

gme_revenue.dropna(inplace=True)
gme_revenue.to_csv("gamestop_revenue.csv", index=False)
print("GameStop revenue data cleaned and saved.")

# =============================================================================
# Question 5 – Plot Tesla Stock vs Revenue Graph
# =============================================================================
print("\n--- Question 5: Tesla Stock vs Revenue Graph ---")
make_graph(tesla_data, tesla_revenue, "Tesla")

# =============================================================================
# Question 6 – Plot GameStop Stock vs Revenue Graph
# =============================================================================
print("\n--- Question 6: GameStop Stock vs Revenue Graph ---")
make_graph(gme_data, gme_revenue, "GameStop")

print("\n=== Project Completed Successfully ===")
