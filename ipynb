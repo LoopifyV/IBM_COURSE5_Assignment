# =============================================================================
# IBM Data Science Project – Extracting and Visualizing Stock Data
# Author: Mohammed
# Title: Analyzing Tesla and GameStop: Stock Prices vs Revenue Trends
# =============================================================================

import yfinance as yf
import pandas as pd
import requests
from bs4 import BeautifulSoup
import plotly.graph_objects as go
from plotly.subplots import make_subplots
import warnings
warnings.filterwarnings("ignore")

def make_graph(stock_data, revenue_data, stock):
    fig = make_subplots(rows=2, cols=1, shared_xaxes=True,
                        subplot_titles=("Historical Share Price", "Historical Revenue"),
                        vertical_spacing=0.3)
    stock_filtered = stock_data[stock_data.Date <= "2025-07-31"]
    revenue_filtered = revenue_data[revenue_data.Date <= "2025-07-31"]
    fig.add_trace(go.Scatter(x=pd.to_datetime(stock_filtered.Date),
                             y=stock_filtered.Close.astype(float),
                             name="Share Price"), row=1, col=1)
    fig.add_trace(go.Scatter(x=pd.to_datetime(revenue_filtered.Date),
                             y=revenue_filtered.Revenue.astype(float),
                             name="Revenue"), row=2, col=1)
    fig.update_yaxes(title_text="Price ($)", row=1, col=1)
    fig.update_yaxes(title_text="Revenue ($ Millions)", row=2, col=1)
    fig.update_layout(title=stock, showlegend=False, height=900,
                      xaxis_rangeslider_visible=True)
    fig.show()

# === Question 1 – Extract Tesla Stock Data ===
tesla = yf.Ticker("TSLA")
tesla_data = tesla.history(period="max")
tesla_data.reset_index(inplace=True)
tesla_data.head()

# === Question 2 – Extract Tesla Revenue ===
url = "https://www.macrotrends.net/stocks/charts/TSLA/tesla/revenue"
html_data = requests.get(url).text
soup = BeautifulSoup(html_data, "html.parser")
tesla_revenue = pd.DataFrame(columns=["Date", "Revenue"])
for row in soup.find_all("tr"):
    cols = row.find_all("td")
    if len(cols) == 2:
        date = cols[0].get_text(strip=True)
        revenue = cols[1].get_text(strip=True).replace("$", "").replace(",", "")
        if revenue:
            tesla_revenue.loc[len(tesla_revenue)] = [date, revenue]
tesla_revenue.head()

# === Question 3 – Extract GameStop Stock Data ===
gme = yf.Ticker("GME")
gme_data = gme.history(period="max")
gme_data.reset_index(inplace=True)
gme_data.head()

# === Question 4 – Extract GameStop Revenue ===
url = "https://www.macrotrends.net/stocks/charts/GME/gamestop/revenue"
html_data = requests.get(url).text
soup = BeautifulSoup(html_data, "html.parser")
gme_revenue = pd.DataFrame(columns=["Date", "Revenue"])
for row in soup.find_all("tr"):
    cols = row.find_all("td")
    if len(cols) == 2:
        date = cols[0].get_text(strip=True)
        revenue = cols[1].get_text(strip=True).replace("$", "").replace(",", "")
        if revenue:
            gme_revenue.loc[len(gme_revenue)] = [date, revenue]
gme_revenue.head()

# === Question 5 – Tesla Stock vs Revenue Graph ===
make_graph(tesla_data, tesla_revenue, "Tesla")

# === Question 6 – GameStop Stock vs Revenue Graph ===
make_graph(gme_data, gme_revenue, "GameStop")
